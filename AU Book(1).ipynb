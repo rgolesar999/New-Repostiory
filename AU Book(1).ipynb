{
 "cells": [
  {
   "cell_type": "markdown",
   "id": "853a40fb",
   "metadata": {},
   "source": [
    "# Basics"
   ]
  },
  {
   "cell_type": "markdown",
   "id": "6d7c5dc2",
   "metadata": {},
   "source": [
    "# "
   ]
  },
  {
   "cell_type": "markdown",
   "id": "a47e99a9",
   "metadata": {},
   "source": [
    "### Ex. circulate the values of n variables."
   ]
  },
  {
   "cell_type": "code",
   "execution_count": 1,
   "id": "d28118ac",
   "metadata": {},
   "outputs": [
    {
     "data": {
      "text/plain": [
       "['Roshan', 'Bike', 45, 44, 78, 9, -5]"
      ]
     },
     "execution_count": 1,
     "metadata": {},
     "output_type": "execute_result"
    }
   ],
   "source": [
    "\n",
    "\n",
    "# a=[1,2,3,4]\n",
    "# a[2:]+a[:2]\n",
    "\n",
    "# Using function\n",
    "\n",
    "def circulate(lst,n):\n",
    "    return lst[n:]+lst[:n]\n",
    "\n",
    "circulate([44,78,9,-5,\"Roshan\",\"Bike\",45],4)"
   ]
  },
  {
   "cell_type": "markdown",
   "id": "ebe1bd2b",
   "metadata": {},
   "source": [
    "### Ex. Leap Year"
   ]
  },
  {
   "cell_type": "code",
   "execution_count": 1,
   "id": "806ecbf7",
   "metadata": {},
   "outputs": [
    {
     "name": "stdout",
     "output_type": "stream",
     "text": [
      "2052 is a leap year\n"
     ]
    }
   ],
   "source": [
    "\n",
    "def leap(year):\n",
    "    if year%4==0 and (year%100!=0 or year%400==0):\n",
    "        print(f\"{year} is a leap year\")\n",
    "    else:\n",
    "        print(f\"{year} is not a leap year\")\n",
    "        \n",
    "leap(2052)"
   ]
  },
  {
   "cell_type": "markdown",
   "id": "82a8bae0",
   "metadata": {},
   "source": [
    "### Ex. Distance between two points in co-ordinate geomentry. "
   ]
  },
  {
   "cell_type": "code",
   "execution_count": 3,
   "id": "9f8d0b84",
   "metadata": {},
   "outputs": [
    {
     "data": {
      "text/plain": [
       "7.810249675906654"
      ]
     },
     "execution_count": 3,
     "metadata": {},
     "output_type": "execute_result"
    }
   ],
   "source": [
    "\n",
    "\n",
    "# import math\n",
    "# x1=int(input(\"Enter x1\\n\"))\n",
    "# x2=int(input(\"Enter x2\\n\"))\n",
    "# y1=int(input(\"Enter y1\\n\"))\n",
    "# y2=int(input(\"Enter y2\\n\"))\n",
    "# dis=math.sqrt(((x2-x1)**2)+((y2-y1)**2))\n",
    "# print(dis)\n",
    "\n",
    "\n",
    "#Using function\n",
    "\n",
    "def distance(x1,x2,y1,y2):\n",
    "    import math\n",
    "    dis=math.sqrt(((x2-x1)**2)+((y2-y1)**2))\n",
    "    return dis\n",
    "\n",
    "distance(9,3,7,2)"
   ]
  },
  {
   "cell_type": "markdown",
   "id": "75d7fcc3",
   "metadata": {},
   "source": [
    "# "
   ]
  },
  {
   "cell_type": "markdown",
   "id": "82af5f2b",
   "metadata": {},
   "source": [
    "# 2] Control Flow and Functions"
   ]
  },
  {
   "cell_type": "markdown",
   "id": "a049f1f5",
   "metadata": {},
   "source": [
    " # "
   ]
  },
  {
   "cell_type": "markdown",
   "id": "93a24211",
   "metadata": {},
   "source": [
    "### Ex.Exchange the values of variables"
   ]
  },
  {
   "cell_type": "code",
   "execution_count": 4,
   "id": "71446617",
   "metadata": {},
   "outputs": [
    {
     "name": "stdout",
     "output_type": "stream",
     "text": [
      "6 4\n"
     ]
    }
   ],
   "source": [
    "\n",
    "a=4\n",
    "b=6\n",
    "temp=a\n",
    "a=b\n",
    "b=temp\n",
    "print(a,b)"
   ]
  },
  {
   "cell_type": "markdown",
   "id": "aaaa01a1",
   "metadata": {},
   "source": [
    "### Ex. EvenOdd numbers"
   ]
  },
  {
   "cell_type": "code",
   "execution_count": 5,
   "id": "496b2403",
   "metadata": {},
   "outputs": [
    {
     "name": "stdout",
     "output_type": "stream",
     "text": [
      "14 is even\n"
     ]
    }
   ],
   "source": [
    "\n",
    "def evenodd(x):\n",
    "    if x%2==0:\n",
    "        print(f\"{x} is even\")\n",
    "    else:\n",
    "        print(f\"{x} is odd\")\n",
    "\n",
    "evenodd(14)"
   ]
  },
  {
   "cell_type": "markdown",
   "id": "b2cd22f4",
   "metadata": {},
   "source": [
    "### Ex. Greatest the two numbers"
   ]
  },
  {
   "cell_type": "code",
   "execution_count": 6,
   "id": "ee6f5c0f",
   "metadata": {},
   "outputs": [
    {
     "name": "stdout",
     "output_type": "stream",
     "text": [
      "14 is greater than -8\n"
     ]
    }
   ],
   "source": [
    "\n",
    "\n",
    "def maximum(x,y):\n",
    "    if x>y:\n",
    "        print(f\"{x} is greater than {y}\")\n",
    "    elif x<y:\n",
    "        print(f\"{x} is less than {y}\")\n",
    "    else:\n",
    "        print(f\"{x} and {y} are equal\")\n",
    "maximum(14,-8)"
   ]
  },
  {
   "cell_type": "markdown",
   "id": "a923cafe",
   "metadata": {},
   "source": [
    "### Ex. Find sum of n natural numbers and find average of it."
   ]
  },
  {
   "cell_type": "code",
   "execution_count": 7,
   "id": "3323f588",
   "metadata": {},
   "outputs": [
    {
     "name": "stdout",
     "output_type": "stream",
     "text": [
      "Sum:  15\n",
      "Average:  3.0\n"
     ]
    }
   ],
   "source": [
    "\n",
    "\n",
    "# n=int(input(\"Enter value of n\\n\"))\n",
    "# i=1\n",
    "# sum=0\n",
    "# while i<=n:\n",
    "#     sum=sum+i\n",
    "#     i+=1\n",
    "# print(sum)\n",
    "# print(\"Average: \",sum/n)\n",
    "\n",
    "# Using function\n",
    "\n",
    "def sumAvg(n):\n",
    "    i=1\n",
    "    sum=0\n",
    "    while i<=n:\n",
    "        sum=sum+i\n",
    "        i+=1\n",
    "    print(\"Sum: \",sum)\n",
    "    print(\"Average: \",sum/n)\n",
    "sumAvg(5)"
   ]
  },
  {
   "cell_type": "markdown",
   "id": "604d91f5",
   "metadata": {},
   "source": [
    "### Ex. Display square of n numbers using while loop."
   ]
  },
  {
   "cell_type": "code",
   "execution_count": 8,
   "id": "38b04f12",
   "metadata": {},
   "outputs": [
    {
     "name": "stdout",
     "output_type": "stream",
     "text": [
      "1 square is 1\n",
      "2 square is 4\n",
      "3 square is 9\n",
      "4 square is 16\n",
      "5 square is 25\n",
      "6 square is 36\n",
      "7 square is 49\n",
      "8 square is 64\n",
      "9 square is 81\n",
      "10 square is 100\n"
     ]
    }
   ],
   "source": [
    "\n",
    "\n",
    "def Square(n):\n",
    "    i=1\n",
    "    while i<=n:\n",
    "        print(f\"{i} square is {i**2}\")\n",
    "        i=i+1\n",
    "Square(10)"
   ]
  },
  {
   "cell_type": "markdown",
   "id": "41c48c2e",
   "metadata": {},
   "source": [
    "### Ex. Even and Odd numbers between 1 and n"
   ]
  },
  {
   "cell_type": "code",
   "execution_count": 9,
   "id": "2924a779",
   "metadata": {},
   "outputs": [
    {
     "name": "stdout",
     "output_type": "stream",
     "text": [
      "1 is odd\n",
      "2 is even\n",
      "3 is odd\n",
      "4 is even\n",
      "5 is odd\n",
      "6 is even\n",
      "7 is odd\n",
      "8 is even\n",
      "9 is odd\n",
      "10 is even\n"
     ]
    }
   ],
   "source": [
    "\n",
    "\n",
    "def even_odd(n):\n",
    "    i=1\n",
    "    while i<=n:\n",
    "        if i%2==0:\n",
    "            print(f\"{i} is even\")\n",
    "        else:\n",
    "            print(f\"{i} is odd\")\n",
    "        i=i+1\n",
    "even_odd(10)"
   ]
  },
  {
   "cell_type": "markdown",
   "id": "f926b9c9",
   "metadata": {},
   "source": [
    "### Ex. Display fibonacci numbers for the sequance of length n."
   ]
  },
  {
   "cell_type": "code",
   "execution_count": 10,
   "id": "3c4ad9e6",
   "metadata": {},
   "outputs": [
    {
     "name": "stdout",
     "output_type": "stream",
     "text": [
      "0\n",
      "1\n",
      "1\n",
      "2\n",
      "3\n",
      "5\n",
      "8\n",
      "13\n",
      "21\n",
      "34\n",
      "55\n"
     ]
    }
   ],
   "source": [
    "\n",
    "\n",
    "def fibonacci(n):\n",
    "    i=1\n",
    "    a=0\n",
    "    b=1\n",
    "    print(a)\n",
    "    print(b)\n",
    "    while i<=(n-2):\n",
    "        c=a+b\n",
    "        a=b\n",
    "        b=c\n",
    "        print(c)\n",
    "        i=i+1\n",
    "fibonacci(11)"
   ]
  },
  {
   "cell_type": "markdown",
   "id": "a0c827fd",
   "metadata": {},
   "source": [
    "### Ex. find sum of 1 to 10 numbers using for loop."
   ]
  },
  {
   "cell_type": "code",
   "execution_count": 11,
   "id": "2917c2e4",
   "metadata": {},
   "outputs": [
    {
     "name": "stdout",
     "output_type": "stream",
     "text": [
      "55\n"
     ]
    }
   ],
   "source": [
    "\n",
    "sum=0\n",
    "for i in range(11):\n",
    "    sum=sum+i\n",
    "print(sum)"
   ]
  },
  {
   "cell_type": "markdown",
   "id": "1c431e3c",
   "metadata": {},
   "source": [
    "### Ex. Display multiplication table."
   ]
  },
  {
   "cell_type": "code",
   "execution_count": 12,
   "id": "2bff83e9",
   "metadata": {},
   "outputs": [
    {
     "name": "stdout",
     "output_type": "stream",
     "text": [
      "4*1 = 4\n",
      "4*2 = 8\n",
      "4*3 = 12\n",
      "4*4 = 16\n",
      "4*5 = 20\n",
      "4*6 = 24\n",
      "4*7 = 28\n",
      "4*8 = 32\n",
      "4*9 = 36\n",
      "4*10 = 40\n"
     ]
    }
   ],
   "source": [
    "\n",
    "# n=int(input(\"Enter c : \\n\"))\n",
    "# for i in range(1,11):\n",
    "#     print(f\"{n}*{i} = {n*i}\")\n",
    "\n",
    "# Using function\n",
    "\n",
    "def table(n):\n",
    "    for i in range(1,11):\n",
    "        print(f\"{n}*{i} = {n*i}\")\n",
    "        \n",
    "table(4)"
   ]
  },
  {
   "cell_type": "markdown",
   "id": "6502dc37",
   "metadata": {},
   "source": [
    "### Ex. Program to print a series 1+(1/2)+(1/3)+-------+(1/n)."
   ]
  },
  {
   "cell_type": "code",
   "execution_count": 13,
   "id": "a9f90acd",
   "metadata": {},
   "outputs": [
    {
     "data": {
      "text/plain": [
       "2.283333333333333"
      ]
     },
     "execution_count": 13,
     "metadata": {},
     "output_type": "execute_result"
    }
   ],
   "source": [
    "\n",
    "\n",
    "# n=int(input(\"Enter n : \\n\"))\n",
    "# sum=0\n",
    "# for i in range(1,n+1):\n",
    "#     sum=sum+(1/i)\n",
    "# print(sum)\n",
    "\n",
    "# Using function\n",
    "\n",
    "def series(n):\n",
    "    sum=0\n",
    "    for i in range(1,n+1):\n",
    "        sum=sum+(1/i)\n",
    "    return sum\n",
    "\n",
    "series(5)"
   ]
  },
  {
   "cell_type": "markdown",
   "id": "0844b4ec",
   "metadata": {},
   "source": [
    "### Ex. Program to print given number is prime or not."
   ]
  },
  {
   "cell_type": "code",
   "execution_count": 14,
   "id": "6eabef30",
   "metadata": {},
   "outputs": [
    {
     "name": "stdout",
     "output_type": "stream",
     "text": [
      "11 is prime\n"
     ]
    }
   ],
   "source": [
    "\n",
    "\n",
    "def prime(n):\n",
    "    if n>1:\n",
    "        for i in range(2,n):\n",
    "            if (n%i)== 0:\n",
    "                print(f\"{n} is not prime\")\n",
    "                break\n",
    "        else:\n",
    "            print(f\"{n} is prime\")\n",
    "    else:\n",
    "        print(\"Invalid input\")\n",
    "        \n",
    "prime(11)"
   ]
  },
  {
   "cell_type": "markdown",
   "id": "b8a1a599",
   "metadata": {},
   "source": [
    "### Ex. Printing pattern"
   ]
  },
  {
   "cell_type": "code",
   "execution_count": 15,
   "id": "6b162ee3",
   "metadata": {},
   "outputs": [
    {
     "name": "stdout",
     "output_type": "stream",
     "text": [
      "* \n",
      "* * \n",
      "* * * \n",
      "* * * * \n",
      "* * * * * \n",
      "* * * * * * \n",
      "* * * * * * * \n",
      "* * * * * * * * \n",
      "* * * * * * * * * \n",
      "* * * * * * * * * * \n"
     ]
    }
   ],
   "source": [
    "\n",
    "def pattern1(n):\n",
    "    for i in range(1,n+1):\n",
    "        for j in range(0,i):\n",
    "            print(\"*\",end=\" \")\n",
    "        print()\n",
    "\n",
    "pattern1(10)"
   ]
  },
  {
   "cell_type": "markdown",
   "id": "33d347d1",
   "metadata": {},
   "source": [
    "### Ex. Printing Pattern"
   ]
  },
  {
   "cell_type": "code",
   "execution_count": 16,
   "id": "a9d1b1db",
   "metadata": {},
   "outputs": [
    {
     "name": "stdout",
     "output_type": "stream",
     "text": [
      "* * * * * * * * * * \n",
      "* * * * * * * * * \n",
      "* * * * * * * * \n",
      "* * * * * * * \n",
      "* * * * * * \n",
      "* * * * * \n",
      "* * * * \n",
      "* * * \n",
      "* * \n",
      "* \n"
     ]
    }
   ],
   "source": [
    "\n",
    "\n",
    "def pattern2(n):\n",
    "    for i in range(1,n+1):\n",
    "        for j in range(i,n+1):\n",
    "            print(\"*\",end=\" \")\n",
    "        print()\n",
    "        \n",
    "pattern2(10)"
   ]
  },
  {
   "cell_type": "markdown",
   "id": "fb615936",
   "metadata": {},
   "source": [
    "### Ex. Printing pattern"
   ]
  },
  {
   "cell_type": "code",
   "execution_count": 61,
   "id": "7fa16cfb",
   "metadata": {},
   "outputs": [
    {
     "name": "stdout",
     "output_type": "stream",
     "text": [
      "         *\n",
      "        ***\n",
      "       *****\n",
      "      *******\n",
      "     *********\n",
      "    ***********\n",
      "   *************\n",
      "  ***************\n",
      " *****************\n",
      "*******************\n"
     ]
    }
   ],
   "source": [
    "\n",
    "\n",
    "def pattern3(n):    # n = number of rows\n",
    "    j=0\n",
    "    for i in range(1,n+1):\n",
    "        for space in range(1,(n-i)+1):\n",
    "            print(end=\" \")\n",
    "        while j!=(2*i-1):\n",
    "            print(\"*\",end=\"\")\n",
    "            j+=1\n",
    "        j=0\n",
    "        print()\n",
    "pattern3(10)    "
   ]
  },
  {
   "cell_type": "markdown",
   "id": "34eab89a",
   "metadata": {},
   "source": [
    "### Ex. Printing pattern"
   ]
  },
  {
   "cell_type": "code",
   "execution_count": 17,
   "id": "6389a26d",
   "metadata": {},
   "outputs": [
    {
     "name": "stdout",
     "output_type": "stream",
     "text": [
      "  1  2  3  4  5\n",
      "  2  3  4  5\n",
      "  3  4  5\n",
      "  4  5\n",
      "  5\n"
     ]
    }
   ],
   "source": [
    "#Printing Pattern\n",
    "\n",
    "for i in range(1,6):\n",
    "    for k in range(1,i):\n",
    "        print(end=\"\")\n",
    "    for j in range(i,6):\n",
    "        print(\" \",j,end=\"\")\n",
    "    print()"
   ]
  },
  {
   "cell_type": "markdown",
   "id": "067bdca3",
   "metadata": {},
   "source": [
    "### Ex. Printing Pattern"
   ]
  },
  {
   "cell_type": "code",
   "execution_count": 18,
   "id": "eedc3996",
   "metadata": {},
   "outputs": [
    {
     "name": "stdout",
     "output_type": "stream",
     "text": [
      "A  \n",
      "A  B  \n",
      "A  B  C  \n",
      "A  B  C  D  \n",
      "A  B  C  D  E  \n"
     ]
    }
   ],
   "source": [
    "\n",
    "\n",
    "for i in range(1,6):\n",
    "    for k in range(65,65+i):\n",
    "        a=chr(k)\n",
    "        print(a,\" \",end=\"\")\n",
    "    print()"
   ]
  },
  {
   "cell_type": "markdown",
   "id": "9f35509a",
   "metadata": {},
   "source": [
    "### Ex. Found element 5"
   ]
  },
  {
   "cell_type": "code",
   "execution_count": 19,
   "id": "86dadceb",
   "metadata": {},
   "outputs": [
    {
     "name": "stdout",
     "output_type": "stream",
     "text": [
      "1\n",
      "2\n",
      "3\n",
      "4\n",
      "Element 5 is found\n"
     ]
    }
   ],
   "source": [
    "\n",
    "\n",
    "for i in range(1,11):\n",
    "    if i==5:\n",
    "        print(\"Element 5 is found\")\n",
    "        break\n",
    "    print(i)"
   ]
  },
  {
   "cell_type": "code",
   "execution_count": 20,
   "id": "817fd421",
   "metadata": {},
   "outputs": [
    {
     "name": "stdout",
     "output_type": "stream",
     "text": [
      "8\n"
     ]
    }
   ],
   "source": [
    "# Find largest among 3 numbers\n",
    "\n",
    "def largest(a,b,c):\n",
    "    if a>=b and a>=c:\n",
    "        print(a)\n",
    "    elif b>=a and b>=c:\n",
    "        print(b)\n",
    "    elif c>=a and c>=b:\n",
    "        print(c)\n",
    "    elif a==b==c:\n",
    "        print(\"all are equal\")\n",
    "largest(8,6,8)"
   ]
  },
  {
   "cell_type": "code",
   "execution_count": 21,
   "id": "15c685bf",
   "metadata": {},
   "outputs": [
    {
     "data": {
      "text/plain": [
       "12"
      ]
     },
     "execution_count": 21,
     "metadata": {},
     "output_type": "execute_result"
    }
   ],
   "source": [
    "# Sum of first n even numbers\n",
    "\n",
    "def even_sum(n):\n",
    "    sum=0\n",
    "    step=2\n",
    "    i=1\n",
    "    while i<=n:\n",
    "        sum=sum+step\n",
    "        step=step+2\n",
    "        i=i+1\n",
    "    return sum\n",
    "    \n",
    "even_sum(3)"
   ]
  },
  {
   "cell_type": "code",
   "execution_count": 22,
   "id": "37a51c77",
   "metadata": {},
   "outputs": [
    {
     "data": {
      "text/plain": [
       "24"
      ]
     },
     "execution_count": 22,
     "metadata": {},
     "output_type": "execute_result"
    }
   ],
   "source": [
    "# find factorial of given number (Recursive function)\n",
    "\n",
    "# def factorial(n):\n",
    "#     if n==0:\n",
    "#         return 1\n",
    "#     if n==1:\n",
    "#         return 1\n",
    "#     if n>1:\n",
    "#         return n*factorial(n-1)\n",
    "        \n",
    "# factorial(4)\n",
    "\n",
    "# Factorial (Without Recursion)\n",
    "def factorial_w(n):\n",
    "    fact=1\n",
    "    i=1\n",
    "    while i<=n:\n",
    "        fact=fact*i\n",
    "        i+=1\n",
    "    return fact\n",
    "factorial_w(4)"
   ]
  },
  {
   "cell_type": "code",
   "execution_count": 23,
   "id": "3236a42b",
   "metadata": {},
   "outputs": [
    {
     "name": "stdout",
     "output_type": "stream",
     "text": [
      "1\n",
      "2\n",
      "3\n",
      "4\n",
      "6\n",
      "12\n"
     ]
    }
   ],
   "source": [
    "# Find factors of given numbers\n",
    "\n",
    "def factors(n):\n",
    "    for i in range(1,n+1):\n",
    "        if n%i==0:\n",
    "            print(i)\n",
    "\n",
    "factors(12)"
   ]
  },
  {
   "cell_type": "code",
   "execution_count": 24,
   "id": "75de6061",
   "metadata": {},
   "outputs": [
    {
     "data": {
      "text/plain": [
       "3"
      ]
     },
     "execution_count": 24,
     "metadata": {},
     "output_type": "execute_result"
    }
   ],
   "source": [
    "# Find GCD of two numbers\n",
    "\n",
    "def gcd(a,b):\n",
    "    while b:\n",
    "        a,b=b,a%b\n",
    "    return a\n",
    "\n",
    "gcd(12,15)"
   ]
  },
  {
   "cell_type": "code",
   "execution_count": 25,
   "id": "ebed193e",
   "metadata": {},
   "outputs": [
    {
     "name": "stdout",
     "output_type": "stream",
     "text": [
      "10\n",
      "9\n",
      "8\n",
      "7\n",
      "6\n",
      "5\n",
      "4\n",
      "3\n",
      "2\n",
      "1\n"
     ]
    }
   ],
   "source": [
    "# Dispaly 1 to 10 numberse in reverse order using (reursive function)\n",
    "\n",
    "def reverse(n):\n",
    "    if n<=0:\n",
    "        return\n",
    "    else:\n",
    "        print(n)\n",
    "        reverse(n-1)\n",
    "reverse(10)"
   ]
  },
  {
   "cell_type": "code",
   "execution_count": 26,
   "id": "2952b9e1",
   "metadata": {},
   "outputs": [
    {
     "name": "stdout",
     "output_type": "stream",
     "text": [
      "0\n",
      "1\n",
      "1\n",
      "2\n",
      "3\n",
      "5\n",
      "8\n",
      "13\n",
      "21\n",
      "34\n",
      "55\n"
     ]
    }
   ],
   "source": [
    "# Generate 1st n fibonocci numbers (Recursive function)\n",
    "\n",
    "def fib(n):\n",
    "    if n<=1:\n",
    "        return n\n",
    "    else:\n",
    "        return fib(n-1)+fib(n-2)\n",
    "    \n",
    "for i in range(0,11):\n",
    "    print(fib(i))"
   ]
  },
  {
   "cell_type": "code",
   "execution_count": 27,
   "id": "3bba72a8",
   "metadata": {},
   "outputs": [
    {
     "data": {
      "text/plain": [
       "[1, 5, 6, 9, 0, 1, 2, 3, 4, 5, 6, 7, 8, 9]"
      ]
     },
     "execution_count": 27,
     "metadata": {},
     "output_type": "execute_result"
    }
   ],
   "source": [
    "# List as Arrays\n",
    "\n",
    "a=[1,5,6,9]\n",
    "# for i in range(len(a)):\n",
    "#     print(a[i])\n",
    "\n",
    "b=[i for i in range(10)]   # Output :- [0, 1, 2, 3, 4, 5, 6, 7, 8, 9]\n",
    "a.extend(b)\n",
    "a"
   ]
  },
  {
   "cell_type": "code",
   "execution_count": 28,
   "id": "f85f6966",
   "metadata": {},
   "outputs": [
    {
     "data": {
      "text/plain": [
       "5"
      ]
     },
     "execution_count": 28,
     "metadata": {},
     "output_type": "execute_result"
    }
   ],
   "source": [
    "# GCD of two numbers using another method\n",
    "\n",
    "def GCD(a,b):\n",
    "    c=b\n",
    "    b=a%b\n",
    "    if b==0:\n",
    "        return c\n",
    "    else:\n",
    "        return GCD(c,b)\n",
    "    \n",
    "GCD(15,5)"
   ]
  },
  {
   "cell_type": "code",
   "execution_count": 29,
   "id": "56ae7041",
   "metadata": {},
   "outputs": [
    {
     "data": {
      "text/plain": [
       "759375"
      ]
     },
     "execution_count": 29,
     "metadata": {},
     "output_type": "execute_result"
    }
   ],
   "source": [
    "# Exponents\n",
    "\n",
    "def exp(base,degree):\n",
    "    return base**degree\n",
    "\n",
    "exp(15,5)"
   ]
  },
  {
   "cell_type": "code",
   "execution_count": 30,
   "id": "043a0103",
   "metadata": {},
   "outputs": [
    {
     "name": "stdout",
     "output_type": "stream",
     "text": [
      "[20, 20, 20, 20]\n",
      "[47, 47, 47, 47]\n",
      "[74, 74, 74, 74]\n"
     ]
    }
   ],
   "source": [
    "# Python program to multiply 2 matrices.\n",
    "\n",
    "A=[[1,2,3],\n",
    "   [4,5,6],\n",
    "   [7,8,9]]\n",
    "\n",
    "B=[[2,2,2,2],\n",
    "  [3,3,3,3],\n",
    "  [4,4,4,4]]\n",
    "\n",
    "result=[[0,0,0,0],\n",
    "       [0,0,0,0],\n",
    "       [0,0,0,0]]\n",
    "\n",
    "for i in range(len(A)):       #iterating by rows of A\n",
    "    for j in range(len(B[0])):    #iterating by columns of B\n",
    "        for k in range(len(B)):      ##iterating by rows of B\n",
    "            result[i][j]+=A[i][k]*B[k][j]\n",
    "\n",
    "for k in result:\n",
    "    print(k)"
   ]
  },
  {
   "cell_type": "markdown",
   "id": "51bb75e2",
   "metadata": {},
   "source": [
    "# "
   ]
  },
  {
   "cell_type": "markdown",
   "id": "86891c1d",
   "metadata": {},
   "source": [
    "# 3] Lists,Touples and Dictionaries:-"
   ]
  },
  {
   "cell_type": "markdown",
   "id": "32285c69",
   "metadata": {},
   "source": [
    "#  "
   ]
  },
  {
   "cell_type": "code",
   "execution_count": 31,
   "id": "d2a27b3a",
   "metadata": {},
   "outputs": [
    {
     "name": "stdout",
     "output_type": "stream",
     "text": [
      "{1, 2, 3, 4, 5, 6, 8}\n"
     ]
    }
   ],
   "source": [
    "# To remove duplicates from a list\n",
    "\n",
    "a=[4,5,6,3,1,5,4,6,8,5,4,5,6,2,1,4,5,6]\n",
    "duplicates=set()\n",
    "for i in a:\n",
    "    if i not in duplicates:\n",
    "        duplicates.add(i)\n",
    "        \n",
    "print(duplicates)"
   ]
  },
  {
   "cell_type": "code",
   "execution_count": 32,
   "id": "6dd518e8",
   "metadata": {},
   "outputs": [
    {
     "name": "stdout",
     "output_type": "stream",
     "text": [
      "Enter number of words in a list\n",
      "2\n",
      "Enter word1.\n",
      "roshan\n",
      "Enter word2.\n",
      "amar\n",
      "['roshan', 'amar']\n",
      "the longest length word is\n",
      "\n",
      "roshan\n"
     ]
    }
   ],
   "source": [
    "# Read a list of words and return the length of longest one:\n",
    "\n",
    "a=[]\n",
    "n=int(input(\"Enter number of words in a list\\n\"))\n",
    "for i in range(0,n):\n",
    "    item=input(\"Enter word\"+ str(i+1) + \".\\n\")\n",
    "    a.append(item)\n",
    "max_length=len(a[0])\n",
    "temp=a[0]\n",
    "for i in a:\n",
    "    if(len(i)>max_length):\n",
    "        max_length=len(i)\n",
    "        temp=i\n",
    "\n",
    "print(a)\n",
    "print(\"the longest length word is\\n\")\n",
    "print(temp)"
   ]
  },
  {
   "cell_type": "code",
   "execution_count": 33,
   "id": "32e2027e",
   "metadata": {},
   "outputs": [
    {
     "data": {
      "text/plain": [
       "[3, 4, 5, 6, 7, 8, 9, 10, 11, 12]"
      ]
     },
     "execution_count": 33,
     "metadata": {},
     "output_type": "execute_result"
    }
   ],
   "source": [
    "# Map function\n",
    "\"\"\"\"\"\n",
    " map() function applies the values of every number of the list and returns a results.\n",
    " The map() function takes two arguments,\n",
    "     reults=map(function, sequance)\n",
    "\"\"\"\"\"\n",
    "\n",
    "\n",
    "def increment_by_3 (x):\n",
    "    return x+3\n",
    "\n",
    "new_list=list(map(increment_by_3, range(10)))\n",
    "new_list"
   ]
  },
  {
   "cell_type": "code",
   "execution_count": 34,
   "id": "4469f337",
   "metadata": {},
   "outputs": [
    {
     "data": {
      "text/plain": [
       "[6, 4, 6, 5]"
      ]
     },
     "execution_count": 34,
     "metadata": {},
     "output_type": "execute_result"
    }
   ],
   "source": [
    "# Another example of map()\n",
    "\n",
    "names=[\"Roshan\",\"Amar\",\"Akshay\",\"Rohit\"]\n",
    "lengths=list(map(len, names))\n",
    "lengths"
   ]
  },
  {
   "cell_type": "code",
   "execution_count": 35,
   "id": "90ca2d68",
   "metadata": {},
   "outputs": [
    {
     "data": {
      "text/plain": [
       "[4, 2, 6]"
      ]
     },
     "execution_count": 35,
     "metadata": {},
     "output_type": "execute_result"
    }
   ],
   "source": [
    "# Filter Function\n",
    "\"\"\"\"\"\n",
    "The filter() function takes two arguments,\n",
    "     reults=filter(function, sequance)\n",
    "\"\"\"\"\"\n",
    "\n",
    "def even(x):\n",
    "    return x%2==0       # eg. even(10) {output:True} , even(45) {Output: False} i.e this is boolean function\n",
    "\n",
    "l=filter(even, [4,2,5,9,3,6])\n",
    "list(l)"
   ]
  },
  {
   "cell_type": "code",
   "execution_count": 36,
   "id": "d0fce255",
   "metadata": {},
   "outputs": [
    {
     "name": "stdout",
     "output_type": "stream",
     "text": [
      "2^ 1 = 2\n",
      "2^ 2 = 4\n",
      "2^ 3 = 8\n",
      "2^ 4 = 16\n",
      "2^ 5 = 32\n",
      "2^ 6 = 64\n",
      "2^ 7 = 128\n",
      "2^ 8 = 256\n",
      "2^ 9 = 512\n"
     ]
    }
   ],
   "source": [
    "# Display power of 2 using lambda function.\n",
    "def power(n):\n",
    "    \"\"\"\"\"\n",
    "    Enter total number of terms\n",
    "    \"\"\"\"\"\n",
    "    result=list(map(lambda n : 2**n, range(n)))\n",
    "    for i in range(1,n):\n",
    "        print(\"2^\",i,\"=\",result[i])\n",
    "\n",
    "power(10)"
   ]
  },
  {
   "cell_type": "markdown",
   "id": "bbe74a82",
   "metadata": {},
   "source": [
    "# "
   ]
  },
  {
   "cell_type": "markdown",
   "id": "ac959875",
   "metadata": {},
   "source": [
    "# Prbolem Solving"
   ]
  },
  {
   "cell_type": "markdown",
   "id": "3603d37c",
   "metadata": {},
   "source": [
    "# "
   ]
  },
  {
   "cell_type": "code",
   "execution_count": 37,
   "id": "5043e63b",
   "metadata": {},
   "outputs": [
    {
     "data": {
      "text/plain": [
       "5"
      ]
     },
     "execution_count": 37,
     "metadata": {},
     "output_type": "execute_result"
    }
   ],
   "source": [
    "# GCD of two numbers\n",
    "\n",
    "def Gcd(a,b):\n",
    "    while b: \n",
    "        a,b=b,a%b\n",
    "    return a\n",
    "\n",
    "Gcd(10,15)"
   ]
  },
  {
   "cell_type": "code",
   "execution_count": 38,
   "id": "7aa1cd7c",
   "metadata": {},
   "outputs": [
    {
     "data": {
      "text/plain": [
       "125"
      ]
     },
     "execution_count": 38,
     "metadata": {},
     "output_type": "execute_result"
    }
   ],
   "source": [
    "# Exponentiation (Power of numbers) using while loop \n",
    "\n",
    "def power2(base,power):\n",
    "    result=1\n",
    "    i=1\n",
    "    while i<=power:\n",
    "        result=base*result\n",
    "        i=i+1\n",
    "    return result\n",
    "power2(5,3)    "
   ]
  },
  {
   "cell_type": "code",
   "execution_count": 39,
   "id": "4b3f0c8b",
   "metadata": {},
   "outputs": [
    {
     "data": {
      "text/plain": [
       "45"
      ]
     },
     "execution_count": 39,
     "metadata": {},
     "output_type": "execute_result"
    }
   ],
   "source": [
    "# Find maximum of list of numbers\n",
    "\n",
    "def maximum_list(lst):\n",
    "    max_list=lst[0]\n",
    "    i=0\n",
    "    while i<len(lst):\n",
    "        if lst[i]>max_list:\n",
    "            max_list=lst[i]\n",
    "        i=i+1\n",
    "    return max_list\n",
    "maximum_list([4,5,10,14,2,45,4,3])    "
   ]
  },
  {
   "cell_type": "code",
   "execution_count": 40,
   "id": "8827f5ad",
   "metadata": {},
   "outputs": [
    {
     "name": "stdout",
     "output_type": "stream",
     "text": [
      "Current date : \n",
      "2022-06-29   13:43:22\n"
     ]
    }
   ],
   "source": [
    "# Display current Date and Time\n",
    "\n",
    "import datetime\n",
    "now=datetime.datetime.now()\n",
    "print(\"Current date : \")\n",
    "print(now.strftime(\"%Y-%m-%d   %H:%M:%S\"))"
   ]
  },
  {
   "cell_type": "code",
   "execution_count": 41,
   "id": "79256e1f",
   "metadata": {},
   "outputs": [
    {
     "name": "stdout",
     "output_type": "stream",
     "text": [
      "Enter year\n",
      "2022\n",
      "Enter month index\n",
      "6\n",
      "     June 2022\n",
      "Mo Tu We Th Fr Sa Su\n",
      "       1  2  3  4  5\n",
      " 6  7  8  9 10 11 12\n",
      "13 14 15 16 17 18 19\n",
      "20 21 22 23 24 25 26\n",
      "27 28 29 30\n",
      "\n"
     ]
    }
   ],
   "source": [
    "#Display Calendar\n",
    "\n",
    "import calendar\n",
    "yy=int(input(\"Enter year\\n\"))\n",
    "mm=int(input(\"Enter month index\\n\"))\n",
    "print(calendar.month(yy,mm))"
   ]
  },
  {
   "cell_type": "code",
   "execution_count": 42,
   "id": "dfe95915",
   "metadata": {},
   "outputs": [
    {
     "name": "stdout",
     "output_type": "stream",
     "text": [
      "Celcius is : \n",
      "40.5\n"
     ]
    }
   ],
   "source": [
    "# Convert Fahrenheit to Celcius\n",
    "\n",
    "def convert_FtoC(f):\n",
    "    print(\"Celcius is : \")\n",
    "    return (f-32)/1.8\n",
    "print(convert_FtoC(104.9))   "
   ]
  },
  {
   "cell_type": "code",
   "execution_count": 43,
   "id": "2be10d79",
   "metadata": {},
   "outputs": [
    {
     "data": {
      "text/plain": [
       "12"
      ]
     },
     "execution_count": 43,
     "metadata": {},
     "output_type": "execute_result"
    }
   ],
   "source": [
    "# LCM of two numbers\n",
    "\n",
    "def LCM(a,b):\n",
    "    if a>b:\n",
    "        m=a\n",
    "    else:\n",
    "        m=b\n",
    "    while (True):\n",
    "        if (m%a==0) and (m%b==0):\n",
    "            lcm=m\n",
    "            break\n",
    "        m+=1\n",
    "    return lcm\n",
    "LCM(4,6)"
   ]
  },
  {
   "cell_type": "code",
   "execution_count": 44,
   "id": "ab63c684",
   "metadata": {},
   "outputs": [
    {
     "name": "stdout",
     "output_type": "stream",
     "text": [
      "11\n",
      "13\n",
      "17\n",
      "19\n"
     ]
    }
   ],
   "source": [
    "# Prime number between given interval (closed interval)\n",
    "\n",
    "def prime_intvl(a,b):\n",
    "    for num in range(a,b+1):\n",
    "        if num>1:\n",
    "            for i in range(2,num):\n",
    "                if num%i==0:\n",
    "                    break\n",
    "            else:\n",
    "                print(num)\n",
    "prime_intvl(11,19)"
   ]
  },
  {
   "cell_type": "code",
   "execution_count": 45,
   "id": "9dce5806",
   "metadata": {},
   "outputs": [
    {
     "name": "stdout",
     "output_type": "stream",
     "text": [
      "1\n",
      "2\n",
      "7\n",
      "14\n"
     ]
    }
   ],
   "source": [
    "# Factors of given number\n",
    "\n",
    "def fact(n):\n",
    "    for i in range(1,n+1):\n",
    "        if n%i==0:\n",
    "            print(i)\n",
    "fact(14)"
   ]
  },
  {
   "cell_type": "code",
   "execution_count": 46,
   "id": "fee8e592",
   "metadata": {},
   "outputs": [
    {
     "name": "stdout",
     "output_type": "stream",
     "text": [
      "1 1 1 0 "
     ]
    }
   ],
   "source": [
    "# Convert number decimal to binary using recurssion\n",
    "\n",
    "def decTObin(n):\n",
    "    if n>1:\n",
    "        decTObin(n//2)\n",
    "    print(n%2,end=\" \")\n",
    "decTObin(14)"
   ]
  },
  {
   "cell_type": "code",
   "execution_count": 47,
   "id": "90408029",
   "metadata": {},
   "outputs": [
    {
     "name": "stdout",
     "output_type": "stream",
     "text": [
      "[12, 14, 16]\n",
      "[18, 20, 22]\n",
      "[24, 26, 28]\n"
     ]
    }
   ],
   "source": [
    "# Addition of two matrices\n",
    "\n",
    "a=[[1,2,3],\n",
    "  [4,5,6],\n",
    "   [7,8,9]]\n",
    "b=[[11,12,13],\n",
    "  [14,15,16],\n",
    "  [17,18,19]]\n",
    "c=[[0,0,0],\n",
    "  [0,0,0],\n",
    "  [0,0,0]]\n",
    "\n",
    "for i in range(len(a)):\n",
    "    for j in range(len(a[0])):\n",
    "        c[i][j]=a[i][j]+b[i][j]\n",
    "\n",
    "for k in c:\n",
    "    print(k)"
   ]
  },
  {
   "cell_type": "code",
   "execution_count": 48,
   "id": "2d9ef332",
   "metadata": {},
   "outputs": [
    {
     "name": "stdout",
     "output_type": "stream",
     "text": [
      "[90, 96, 102]\n",
      "[216, 231, 246]\n",
      "[342, 366, 390]\n"
     ]
    }
   ],
   "source": [
    "#Multiplication of two matrices\n",
    "\n",
    "A=[[1,2,3],\n",
    "   [4,5,6],\n",
    "   [7,8,9]]\n",
    "\n",
    "B=[[11,12,13],\n",
    "  [14,15,16],\n",
    "  [17,18,19]]\n",
    "\n",
    "result=[[0,0,0],\n",
    "       [0,0,0],\n",
    "       [0,0,0]]\n",
    "\n",
    "for i in range(len(A)):       #iterating by rows of A\n",
    "    for j in range(len(B[0])):    #iterating by columns of B\n",
    "        for k in range(len(B)):      ##iterating by rows of B\n",
    "            result[i][j]+=A[i][k]*B[k][j]\n",
    "\n",
    "for k in result:\n",
    "    print(k)"
   ]
  },
  {
   "cell_type": "code",
   "execution_count": 49,
   "id": "1ad78913",
   "metadata": {},
   "outputs": [
    {
     "name": "stdout",
     "output_type": "stream",
     "text": [
      "[1, 3, 5]\n",
      "[2, 4, 6]\n"
     ]
    }
   ],
   "source": [
    "# Transpose of matrix\n",
    "\n",
    "a=[[1,2],\n",
    "  [3,4],\n",
    "  [5,6]]\n",
    "b=[[0,0,0],\n",
    "  [0,0,0]]\n",
    "\n",
    "for i in range (len(a)):\n",
    "    for j in range(len(a[0])):\n",
    "        b[j][i]=a[i][j]\n",
    "        \n",
    "for k in b:\n",
    "    print(k)"
   ]
  },
  {
   "cell_type": "code",
   "execution_count": 50,
   "id": "4c475c59",
   "metadata": {},
   "outputs": [
    {
     "name": "stdout",
     "output_type": "stream",
     "text": [
      "It is palindrome\n"
     ]
    }
   ],
   "source": [
    "# Check whether given string is palindrome or not.\n",
    "\n",
    "def palindrome(strg):\n",
    "    rev_str=reversed(str(strg))\n",
    "    if list(strg)==list(rev_str):\n",
    "        print(\"It is palindrome\")\n",
    "    else:\n",
    "        print(\"It is not palindrome\")\n",
    "\n",
    "palindrome(\"madam\")"
   ]
  },
  {
   "cell_type": "code",
   "execution_count": 51,
   "id": "ddce88c2",
   "metadata": {},
   "outputs": [
    {
     "name": "stdout",
     "output_type": "stream",
     "text": [
      "a\n",
      "is\n",
      "roshan\n",
      "winner\n"
     ]
    }
   ],
   "source": [
    "# Sort words alphabetically from given string\n",
    "\n",
    "def alphabet(strg):\n",
    "    words=strg.split()\n",
    "    words.sort()\n",
    "    for word in words:\n",
    "        print(word)\n",
    "\n",
    "alphabet(\"roshan is a winner\")"
   ]
  },
  {
   "cell_type": "code",
   "execution_count": 52,
   "id": "d50946a9",
   "metadata": {},
   "outputs": [
    {
     "name": "stdout",
     "output_type": "stream",
     "text": [
      "Ths s  python proram\n"
     ]
    }
   ],
   "source": [
    "# To delete desire word from given sring\n",
    "\n",
    "def del_word(str1,str2):\n",
    "    \"\"\"\"\"\n",
    "    str1 = Any string to remove perticular string\n",
    "    str2 = word to be deleted\n",
    "    \n",
    "    \"\"\"\"\"\n",
    "    word_list=str1.split()\n",
    "    print(\"\".join([i for i in str1 if i not in str2]))\n",
    "\n",
    "del_word(\"This is big python program\",\"big\")"
   ]
  },
  {
   "cell_type": "code",
   "execution_count": null,
   "id": "cddd6d15",
   "metadata": {},
   "outputs": [],
   "source": []
  }
 ],
 "metadata": {
  "kernelspec": {
   "display_name": "Python 3 (ipykernel)",
   "language": "python",
   "name": "python3"
  },
  "language_info": {
   "codemirror_mode": {
    "name": "ipython",
    "version": 3
   },
   "file_extension": ".py",
   "mimetype": "text/x-python",
   "name": "python",
   "nbconvert_exporter": "python",
   "pygments_lexer": "ipython3",
   "version": "3.10.0"
  }
 },
 "nbformat": 4,
 "nbformat_minor": 5
}
